{
 "cells": [
  {
   "cell_type": "markdown",
   "metadata": {},
   "source": [
    "Importing necessary libraries"
   ]
  },
  {
   "cell_type": "code",
   "execution_count": 11,
   "metadata": {},
   "outputs": [],
   "source": [
    "import pandas as pd\n",
    "import numpy as np\n",
    "import scipy as sy\n",
    "from sklearn.cluster import KMeans\n",
    "#!conda install -c conda-forge folium=0.5.0 --yes\n",
    "import folium \n",
    "from geopy.geocoders import Nominatim\n",
    "import matplotlib.pyplot as plt"
   ]
  },
  {
   "cell_type": "markdown",
   "metadata": {},
   "source": [
    "Retrieving cleaned ACS survey dataset. In the ACS survey we see that populaiton density and housing unit density are given per acre. So we utilize acre as our base measurement. ACS survey has a lot of data on the neighborhoods (community reporting area name) but I am assuming that most of it does not affect the housing prices. This is due to the data being demographic information (such as race, employment, household income), which does not directly influence housing prices.\n",
    "\n",
    "We extract the important features of the ACS survey, the most important of them being Population per acre and Housing Units per acre, as the population density and housing denisty maybe key pointors to the supply and demand of housing in an area. "
   ]
  },
  {
   "cell_type": "code",
   "execution_count": 12,
   "metadata": {},
   "outputs": [
    {
     "data": {
      "text/html": [
       "<div>\n",
       "<style scoped>\n",
       "    .dataframe tbody tr th:only-of-type {\n",
       "        vertical-align: middle;\n",
       "    }\n",
       "\n",
       "    .dataframe tbody tr th {\n",
       "        vertical-align: top;\n",
       "    }\n",
       "\n",
       "    .dataframe thead th {\n",
       "        text-align: right;\n",
       "    }\n",
       "</style>\n",
       "<table border=\"1\" class=\"dataframe\">\n",
       "  <thead>\n",
       "    <tr style=\"text-align: right;\">\n",
       "      <th></th>\n",
       "      <th>Community Reporting Area Name</th>\n",
       "      <th>Area in Acres</th>\n",
       "      <th>Total Population</th>\n",
       "      <th>Median Age</th>\n",
       "      <th>Total Housing Units</th>\n",
       "      <th>Occupied Housing Units (%)</th>\n",
       "      <th>Population per Gross Acre</th>\n",
       "      <th>Housing Units per Gross Acre</th>\n",
       "      <th>Latitude</th>\n",
       "      <th>Longitude</th>\n",
       "    </tr>\n",
       "  </thead>\n",
       "  <tbody>\n",
       "    <tr>\n",
       "      <th>0</th>\n",
       "      <td>Ballard</td>\n",
       "      <td>492.9</td>\n",
       "      <td>8649</td>\n",
       "      <td>34.3</td>\n",
       "      <td>5580</td>\n",
       "      <td>95.5</td>\n",
       "      <td>17.55</td>\n",
       "      <td>11.32</td>\n",
       "      <td>47.665804</td>\n",
       "      <td>-122.379226</td>\n",
       "    </tr>\n",
       "    <tr>\n",
       "      <th>1</th>\n",
       "      <td>North Beach/Blue Ridge</td>\n",
       "      <td>1284.4</td>\n",
       "      <td>12701</td>\n",
       "      <td>42.6</td>\n",
       "      <td>5532</td>\n",
       "      <td>96.0</td>\n",
       "      <td>9.89</td>\n",
       "      <td>4.31</td>\n",
       "      <td>47.699993</td>\n",
       "      <td>-122.374384</td>\n",
       "    </tr>\n",
       "    <tr>\n",
       "      <th>2</th>\n",
       "      <td>Montlake/Portage Bay</td>\n",
       "      <td>951.1</td>\n",
       "      <td>9732</td>\n",
       "      <td>37.3</td>\n",
       "      <td>4831</td>\n",
       "      <td>95.9</td>\n",
       "      <td>10.23</td>\n",
       "      <td>5.08</td>\n",
       "      <td>47.639969</td>\n",
       "      <td>-122.312162</td>\n",
       "    </tr>\n",
       "    <tr>\n",
       "      <th>3</th>\n",
       "      <td>Interbay</td>\n",
       "      <td>1214.6</td>\n",
       "      <td>11024</td>\n",
       "      <td>34.4</td>\n",
       "      <td>6114</td>\n",
       "      <td>91.9</td>\n",
       "      <td>9.08</td>\n",
       "      <td>5.03</td>\n",
       "      <td>47.645169</td>\n",
       "      <td>-122.379354</td>\n",
       "    </tr>\n",
       "    <tr>\n",
       "      <th>4</th>\n",
       "      <td>North Capitol Hill</td>\n",
       "      <td>283.7</td>\n",
       "      <td>4807</td>\n",
       "      <td>36.1</td>\n",
       "      <td>2599</td>\n",
       "      <td>95.5</td>\n",
       "      <td>16.94</td>\n",
       "      <td>9.16</td>\n",
       "      <td>47.628489</td>\n",
       "      <td>-122.320303</td>\n",
       "    </tr>\n",
       "  </tbody>\n",
       "</table>\n",
       "</div>"
      ],
      "text/plain": [
       "  Community Reporting Area Name  Area in Acres  Total Population  Median Age  \\\n",
       "0                       Ballard          492.9              8649        34.3   \n",
       "1        North Beach/Blue Ridge         1284.4             12701        42.6   \n",
       "2          Montlake/Portage Bay          951.1              9732        37.3   \n",
       "3                      Interbay         1214.6             11024        34.4   \n",
       "4            North Capitol Hill          283.7              4807        36.1   \n",
       "\n",
       "   Total Housing Units  Occupied Housing Units (%)  Population per Gross Acre  \\\n",
       "0                 5580                        95.5                      17.55   \n",
       "1                 5532                        96.0                       9.89   \n",
       "2                 4831                        95.9                      10.23   \n",
       "3                 6114                        91.9                       9.08   \n",
       "4                 2599                        95.5                      16.94   \n",
       "\n",
       "   Housing Units per Gross Acre   Latitude   Longitude  \n",
       "0                         11.32  47.665804 -122.379226  \n",
       "1                          4.31  47.699993 -122.374384  \n",
       "2                          5.08  47.639969 -122.312162  \n",
       "3                          5.03  47.645169 -122.379354  \n",
       "4                          9.16  47.628489 -122.320303  "
      ]
     },
     "execution_count": 12,
     "metadata": {},
     "output_type": "execute_result"
    }
   ],
   "source": [
    "demo_df = pd.read_csv('ACS.csv')\n",
    "demo_df.head()\n",
    "demo_df = demo_df[['Community Reporting Area Name', 'Area in Acres', 'Total Population', 'Median Age', \\\n",
    "                'Total Housing Units', 'Occupied Housing Units (%)', 'Population per Gross Acre', \\\n",
    "                'Housing Units per Gross Acre', 'Latitude', 'Longitude']]\n",
    "demo_df.head()"
   ]
  },
  {
   "cell_type": "markdown",
   "metadata": {},
   "source": [
    "Retrieving housing prices data from Zillow. The dataset was cleaned, as the neighborhoods in the ACS were a combination of smaller neighborhoods. Any neighborhood that had multiple smaller neighborhoods, was given a mean Home Value Index and Rent Index. "
   ]
  },
  {
   "cell_type": "code",
   "execution_count": 13,
   "metadata": {},
   "outputs": [
    {
     "data": {
      "text/html": [
       "<div>\n",
       "<style scoped>\n",
       "    .dataframe tbody tr th:only-of-type {\n",
       "        vertical-align: middle;\n",
       "    }\n",
       "\n",
       "    .dataframe tbody tr th {\n",
       "        vertical-align: top;\n",
       "    }\n",
       "\n",
       "    .dataframe thead th {\n",
       "        text-align: right;\n",
       "    }\n",
       "</style>\n",
       "<table border=\"1\" class=\"dataframe\">\n",
       "  <thead>\n",
       "    <tr style=\"text-align: right;\">\n",
       "      <th></th>\n",
       "      <th>Region Name</th>\n",
       "      <th>Home Value Index</th>\n",
       "      <th>Rent Index</th>\n",
       "    </tr>\n",
       "  </thead>\n",
       "  <tbody>\n",
       "    <tr>\n",
       "      <th>0</th>\n",
       "      <td>Ballard</td>\n",
       "      <td>765650.0</td>\n",
       "      <td>2724.0</td>\n",
       "    </tr>\n",
       "    <tr>\n",
       "      <th>1</th>\n",
       "      <td>North Beach/Blue Ridge</td>\n",
       "      <td>1082000.0</td>\n",
       "      <td>3200.0</td>\n",
       "    </tr>\n",
       "    <tr>\n",
       "      <th>2</th>\n",
       "      <td>Montlake/Portage Bay</td>\n",
       "      <td>1240050.0</td>\n",
       "      <td>3569.0</td>\n",
       "    </tr>\n",
       "    <tr>\n",
       "      <th>3</th>\n",
       "      <td>Interbay</td>\n",
       "      <td>742400.0</td>\n",
       "      <td>NaN</td>\n",
       "    </tr>\n",
       "    <tr>\n",
       "      <th>4</th>\n",
       "      <td>North Capitol Hill</td>\n",
       "      <td>710600.0</td>\n",
       "      <td>2472.0</td>\n",
       "    </tr>\n",
       "  </tbody>\n",
       "</table>\n",
       "</div>"
      ],
      "text/plain": [
       "              Region Name  Home Value Index  Rent Index\n",
       "0                 Ballard          765650.0      2724.0\n",
       "1  North Beach/Blue Ridge         1082000.0      3200.0\n",
       "2    Montlake/Portage Bay         1240050.0      3569.0\n",
       "3                Interbay          742400.0         NaN\n",
       "4      North Capitol Hill          710600.0      2472.0"
      ]
     },
     "execution_count": 13,
     "metadata": {},
     "output_type": "execute_result"
    }
   ],
   "source": [
    "housing_df = pd.read_excel('Seattle housing.xlsx')\n",
    "housing_df.head()"
   ]
  },
  {
   "cell_type": "code",
   "execution_count": 14,
   "metadata": {},
   "outputs": [
    {
     "data": {
      "text/html": [
       "<div>\n",
       "<style scoped>\n",
       "    .dataframe tbody tr th:only-of-type {\n",
       "        vertical-align: middle;\n",
       "    }\n",
       "\n",
       "    .dataframe tbody tr th {\n",
       "        vertical-align: top;\n",
       "    }\n",
       "\n",
       "    .dataframe thead th {\n",
       "        text-align: right;\n",
       "    }\n",
       "</style>\n",
       "<table border=\"1\" class=\"dataframe\">\n",
       "  <thead>\n",
       "    <tr style=\"text-align: right;\">\n",
       "      <th></th>\n",
       "      <th>Community Reporting Area Name</th>\n",
       "      <th>Area in Acres</th>\n",
       "      <th>Total Population</th>\n",
       "      <th>Median Age</th>\n",
       "      <th>Total Housing Units</th>\n",
       "      <th>Occupied Housing Units (%)</th>\n",
       "      <th>Population per Gross Acre</th>\n",
       "      <th>Housing Units per Gross Acre</th>\n",
       "      <th>Latitude</th>\n",
       "      <th>Longitude</th>\n",
       "      <th>Home Value Index</th>\n",
       "      <th>Rent Index</th>\n",
       "    </tr>\n",
       "  </thead>\n",
       "  <tbody>\n",
       "    <tr>\n",
       "      <th>0</th>\n",
       "      <td>Ballard</td>\n",
       "      <td>492.9</td>\n",
       "      <td>8649</td>\n",
       "      <td>34.3</td>\n",
       "      <td>5580</td>\n",
       "      <td>95.5</td>\n",
       "      <td>17.55</td>\n",
       "      <td>11.32</td>\n",
       "      <td>47.665804</td>\n",
       "      <td>-122.379226</td>\n",
       "      <td>765650.0</td>\n",
       "      <td>2724.0</td>\n",
       "    </tr>\n",
       "    <tr>\n",
       "      <th>1</th>\n",
       "      <td>North Beach/Blue Ridge</td>\n",
       "      <td>1284.4</td>\n",
       "      <td>12701</td>\n",
       "      <td>42.6</td>\n",
       "      <td>5532</td>\n",
       "      <td>96.0</td>\n",
       "      <td>9.89</td>\n",
       "      <td>4.31</td>\n",
       "      <td>47.699993</td>\n",
       "      <td>-122.374384</td>\n",
       "      <td>1082000.0</td>\n",
       "      <td>3200.0</td>\n",
       "    </tr>\n",
       "    <tr>\n",
       "      <th>2</th>\n",
       "      <td>Montlake/Portage Bay</td>\n",
       "      <td>951.1</td>\n",
       "      <td>9732</td>\n",
       "      <td>37.3</td>\n",
       "      <td>4831</td>\n",
       "      <td>95.9</td>\n",
       "      <td>10.23</td>\n",
       "      <td>5.08</td>\n",
       "      <td>47.639969</td>\n",
       "      <td>-122.312162</td>\n",
       "      <td>1240050.0</td>\n",
       "      <td>3569.0</td>\n",
       "    </tr>\n",
       "    <tr>\n",
       "      <th>3</th>\n",
       "      <td>Interbay</td>\n",
       "      <td>1214.6</td>\n",
       "      <td>11024</td>\n",
       "      <td>34.4</td>\n",
       "      <td>6114</td>\n",
       "      <td>91.9</td>\n",
       "      <td>9.08</td>\n",
       "      <td>5.03</td>\n",
       "      <td>47.645169</td>\n",
       "      <td>-122.379354</td>\n",
       "      <td>742400.0</td>\n",
       "      <td>NaN</td>\n",
       "    </tr>\n",
       "    <tr>\n",
       "      <th>4</th>\n",
       "      <td>North Capitol Hill</td>\n",
       "      <td>283.7</td>\n",
       "      <td>4807</td>\n",
       "      <td>36.1</td>\n",
       "      <td>2599</td>\n",
       "      <td>95.5</td>\n",
       "      <td>16.94</td>\n",
       "      <td>9.16</td>\n",
       "      <td>47.628489</td>\n",
       "      <td>-122.320303</td>\n",
       "      <td>710600.0</td>\n",
       "      <td>2472.0</td>\n",
       "    </tr>\n",
       "  </tbody>\n",
       "</table>\n",
       "</div>"
      ],
      "text/plain": [
       "  Community Reporting Area Name  Area in Acres  Total Population  Median Age  \\\n",
       "0                       Ballard          492.9              8649        34.3   \n",
       "1        North Beach/Blue Ridge         1284.4             12701        42.6   \n",
       "2          Montlake/Portage Bay          951.1              9732        37.3   \n",
       "3                      Interbay         1214.6             11024        34.4   \n",
       "4            North Capitol Hill          283.7              4807        36.1   \n",
       "\n",
       "   Total Housing Units  Occupied Housing Units (%)  Population per Gross Acre  \\\n",
       "0                 5580                        95.5                      17.55   \n",
       "1                 5532                        96.0                       9.89   \n",
       "2                 4831                        95.9                      10.23   \n",
       "3                 6114                        91.9                       9.08   \n",
       "4                 2599                        95.5                      16.94   \n",
       "\n",
       "   Housing Units per Gross Acre   Latitude   Longitude  Home Value Index  \\\n",
       "0                         11.32  47.665804 -122.379226          765650.0   \n",
       "1                          4.31  47.699993 -122.374384         1082000.0   \n",
       "2                          5.08  47.639969 -122.312162         1240050.0   \n",
       "3                          5.03  47.645169 -122.379354          742400.0   \n",
       "4                          9.16  47.628489 -122.320303          710600.0   \n",
       "\n",
       "   Rent Index  \n",
       "0      2724.0  \n",
       "1      3200.0  \n",
       "2      3569.0  \n",
       "3         NaN  \n",
       "4      2472.0  "
      ]
     },
     "execution_count": 14,
     "metadata": {},
     "output_type": "execute_result"
    }
   ],
   "source": [
    "df = demo_df.join(housing_df.set_index('Region Name'), on = 'Community Reporting Area Name')\n",
    "df.head()"
   ]
  },
  {
   "cell_type": "code",
   "execution_count": 15,
   "metadata": {},
   "outputs": [
    {
     "data": {
      "text/plain": [
       "0"
      ]
     },
     "execution_count": 15,
     "metadata": {},
     "output_type": "execute_result"
    }
   ],
   "source": [
    "df.dropna(subset=['Latitude'], axis=0, inplace=True)\n",
    "df['Latitude'].isnull().sum()"
   ]
  },
  {
   "cell_type": "markdown",
   "metadata": {},
   "source": [
    "Let's take a look at out neighborhoods on a map using the centralized points"
   ]
  },
  {
   "cell_type": "code",
   "execution_count": 18,
   "metadata": {},
   "outputs": [
    {
     "name": "stdout",
     "output_type": "stream",
     "text": [
      "The geograpical coordinate of Seattle are 47.6038321, -122.3300624.\n"
     ]
    }
   ],
   "source": [
    "address = 'Seattle, WA, USA'\n",
    "\n",
    "geolocator = Nominatim(user_agent=\"seattle_exp\")\n",
    "location = geolocator.geocode(address)\n",
    "latitude = location.latitude \n",
    "longitude = location.longitude\n",
    "print('The geograpical coordinate of Seattle are {}, {}.'.format(latitude, longitude))"
   ]
  },
  {
   "cell_type": "code",
   "execution_count": 19,
   "metadata": {
    "scrolled": true
   },
   "outputs": [
    {
     "data": {
      "text/html": [
       "<div style=\"width:100%;\"><div style=\"position:relative;width:100%;height:0;padding-bottom:60%;\"><span style=\"color:#565656\">Make this Notebook Trusted to load map: File -> Trust Notebook</span><iframe src=\"about:blank\" style=\"position:absolute;width:100%;height:100%;left:0;top:0;border:none !important;\" data-html=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 onload=\"this.contentDocument.open();this.contentDocument.write(atob(this.getAttribute('data-html')));this.contentDocument.close();\" allowfullscreen webkitallowfullscreen mozallowfullscreen></iframe></div></div>"
      ],
      "text/plain": [
       "<folium.folium.Map at 0x24bf94ac488>"
      ]
     },
     "execution_count": 19,
     "metadata": {},
     "output_type": "execute_result"
    }
   ],
   "source": [
    "map_seattle = folium.Map(location = [latitude, longitude], zoom_start=10)\n",
    "\n",
    "for lat, lng, neighborhood in zip(df['Latitude'], df['Longitude'], df['Community Reporting Area Name']):\n",
    "    label = neighborhood\n",
    "    label = folium.Popup(label, parse_html=True)\n",
    "    folium.CircleMarker(\n",
    "        [lat, lng],\n",
    "        radius=5,\n",
    "        popup=label,\n",
    "        color='blue',\n",
    "        fill=True,\n",
    "        fill_color='#3186cc',\n",
    "        fill_opacity=0.7,\n",
    "        parse_html=False).add_to(map_seattle)  \n",
    "map_seattle"
   ]
  },
  {
   "cell_type": "code",
   "execution_count": 42,
   "metadata": {},
   "outputs": [
    {
     "ename": "FileNotFoundError",
     "evalue": "[Errno 2] No such file or directory: 'ACS.geojson'",
     "output_type": "error",
     "traceback": [
      "\u001b[1;31m---------------------------------------------------------------------------\u001b[0m",
      "\u001b[1;31mFileNotFoundError\u001b[0m                         Traceback (most recent call last)",
      "\u001b[1;32m<ipython-input-42-ac598034c74a>\u001b[0m in \u001b[0;36m<module>\u001b[1;34m\u001b[0m\n\u001b[1;32m----> 1\u001b[1;33m \u001b[0mneighborhoods\u001b[0m \u001b[1;33m=\u001b[0m \u001b[0mopen\u001b[0m\u001b[1;33m(\u001b[0m\u001b[1;34m'ACS.geojson'\u001b[0m\u001b[1;33m)\u001b[0m\u001b[1;33m.\u001b[0m\u001b[0mread\u001b[0m\u001b[1;33m(\u001b[0m\u001b[1;33m)\u001b[0m\u001b[1;33m\u001b[0m\u001b[1;33m\u001b[0m\u001b[0m\n\u001b[0m\u001b[0;32m      2\u001b[0m \u001b[0mneighborhoods\u001b[0m\u001b[1;33m\u001b[0m\u001b[1;33m\u001b[0m\u001b[0m\n",
      "\u001b[1;31mFileNotFoundError\u001b[0m: [Errno 2] No such file or directory: 'ACS.geojson'"
     ]
    }
   ],
   "source": [
    "neighborhoods = open('ACS.geojson').read()\n",
    "neighborhoods"
   ]
  },
  {
   "cell_type": "code",
   "execution_count": null,
   "metadata": {},
   "outputs": [],
   "source": []
  }
 ],
 "metadata": {
  "kernelspec": {
   "display_name": "Python 3",
   "language": "python",
   "name": "python3"
  },
  "language_info": {
   "codemirror_mode": {
    "name": "ipython",
    "version": 3
   },
   "file_extension": ".py",
   "mimetype": "text/x-python",
   "name": "python",
   "nbconvert_exporter": "python",
   "pygments_lexer": "ipython3",
   "version": "3.7.6"
  }
 },
 "nbformat": 4,
 "nbformat_minor": 4
}
